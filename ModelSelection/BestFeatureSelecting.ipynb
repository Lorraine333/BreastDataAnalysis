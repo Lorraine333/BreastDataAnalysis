{
 "metadata": {
  "name": "",
  "signature": "sha256:563ac708c588a1574ad428e7c509a66075fc1a349597fdc3473fea288444b4b5"
 },
 "nbformat": 3,
 "nbformat_minor": 0,
 "worksheets": [
  {
   "cells": [
    {
     "cell_type": "code",
     "collapsed": false,
     "input": [
      "import itertools\n",
      "import numpy as np\n",
      "import pandas as pd\n",
      "import matplotlib as mpl\n",
      "import matplotlib.pyplot as plt\n",
      "import pydotplus\n",
      "import math\n",
      "import sys\n",
      "from random import sample\n",
      "from mpl_toolkits.mplot3d import Axes3D\n",
      "from matplotlib import cm\n",
      "import sklearn\n",
      "from random import sample\n",
      "from sklearn import linear_model\n",
      "from sklearn import cross_validation\n",
      "from sklearn.cross_validation import train_test_split\n",
      "from sklearn import tree\n",
      "from sklearn.neighbors import KNeighborsClassifier\n",
      "from sklearn.learning_curve import learning_curve\n",
      "from __future__ import division # ensures that default division is real number division\n",
      "get_ipython().magic(u'matplotlib inline')\n",
      "%matplotlib\n",
      "mpl.rc('figure', figsize=[10,6]) "
     ],
     "language": "python",
     "metadata": {},
     "outputs": [
      {
       "output_type": "stream",
       "stream": "stdout",
       "text": [
        "Using matplotlib backend: MacOSX\n"
       ]
      }
     ],
     "prompt_number": 1
    },
    {
     "cell_type": "code",
     "collapsed": false,
     "input": [
      "df = pd.read_csv('wdbc.data.csv',header = None)\n",
      "base_names = ['radius', 'texture', 'perimeter', 'area', 'smooth', 'compact', 'concav', \n",
      "                 'conpoints', 'symmetry', 'fracdim']\n",
      "names = ['m' + name for name in base_names]\n",
      "names += ['s' + name for name in base_names]\n",
      "names += ['e' + name for name in base_names]\n",
      "names = ['id', 'class'] + names\n",
      "df.columns = names\n",
      "df.head()\n",
      "X = df.values[:,2:]\n",
      "y = df['class']"
     ],
     "language": "python",
     "metadata": {},
     "outputs": [],
     "prompt_number": 12
    },
    {
     "cell_type": "code",
     "collapsed": false,
     "input": [
      "#finding best feature by calculating the correlation between each feature\n",
      "#and the class. But it turns out that many features has strong connection \n",
      "#with the class result.\n",
      "df['result'] = pd.Series([(0 if x == 'M' else 1) for x in df['class']])\n",
      "print df.corr()['result']"
     ],
     "language": "python",
     "metadata": {},
     "outputs": [
      {
       "output_type": "stream",
       "stream": "stdout",
       "text": [
        "id           -0.039769\n",
        "mradius      -0.730029\n",
        "mtexture     -0.415185\n",
        "mperimeter   -0.742636\n",
        "marea        -0.708984\n",
        "msmooth      -0.358560\n",
        "mcompact     -0.596534\n",
        "mconcav      -0.696360\n",
        "mconpoints   -0.776614\n",
        "msymmetry    -0.330499\n",
        "mfracdim      0.012838\n",
        "sradius      -0.567134\n",
        "stexture      0.008303\n",
        "sperimeter   -0.556141\n",
        "sarea        -0.548236\n",
        "ssmooth       0.067016\n",
        "scompact     -0.292999\n",
        "sconcav      -0.253730\n",
        "sconpoints   -0.408042\n",
        "ssymmetry     0.006522\n",
        "sfracdim     -0.077972\n",
        "eradius      -0.776454\n",
        "etexture     -0.456903\n",
        "eperimeter   -0.782914\n",
        "earea        -0.733825\n",
        "esmooth      -0.421465\n",
        "ecompact     -0.590998\n",
        "econcav      -0.659610\n",
        "econpoints   -0.793566\n",
        "esymmetry    -0.416294\n",
        "efracdim     -0.323872\n",
        "result        1.000000\n",
        "Name: result, dtype: float64\n"
       ]
      }
     ],
     "prompt_number": 24
    },
    {
     "cell_type": "code",
     "collapsed": false,
     "input": [
      "def plot_learning_curve(estimator, title, X, y, ylim=None, cv=None,\n",
      "                        n_jobs=1, train_sizes=np.linspace(.1, 1.0, 10)):\n",
      "    \n",
      "    plt.figure()\n",
      "    plt.title(title)\n",
      "    if ylim is not None:\n",
      "        plt.ylim(*ylim)\n",
      "    plt.xlabel(\"Training examples\")\n",
      "    plt.ylabel(\"Score\")\n",
      "    train_sizes, train_scores, test_scores = learning_curve(\n",
      "        estimator, X, y, cv=cv, n_jobs=n_jobs, train_sizes=train_sizes)\n",
      "    train_scores_mean = np.mean(train_scores, axis=1)\n",
      "    test_scores_mean = np.mean(test_scores, axis=1)\n",
      "    plt.grid()\n",
      "    plt.plot(train_sizes, train_scores_mean, 'o-', color=\"r\",\n",
      "             label=\"Training score\")\n",
      "    plt.plot(train_sizes, test_scores_mean, 'o-', color=\"g\",\n",
      "             label=\"Cross-validation score\")\n",
      "\n",
      "    plt.legend(loc=\"best\")\n",
      "    return plt"
     ],
     "language": "python",
     "metadata": {},
     "outputs": [],
     "prompt_number": 34
    },
    {
     "cell_type": "code",
     "collapsed": false,
     "input": [
      "#using forward search strategy to find the best feature\n",
      "number = 3\n",
      "best = 0\n",
      "bestFeature = []\n",
      "for i in df.columns:\n",
      "    if((i != \"id\")&(i != \"class\")&(i != \"result\")):\n",
      "        X = df.values[:,2:number]\n",
      "        Y = df['class']\n",
      "        \n",
      "        #using five fold strategy to test the score. Using the optimal parameter find before\n",
      "        #suppose the best parameter is entropy and 20\n",
      "        kf = cross_validation.KFold(n=X.shape[0],n_folds=5)\n",
      "        score = []\n",
      "        dtree = tree.DecisionTreeClassifier(criterion='entropy', max_depth=20)\n",
      "    \n",
      "        for train_index, test_index in kf:\n",
      "            X_train, X_test = X[train_index], X[test_index]\n",
      "            y_train, y_test = y[train_index], y[test_index]\n",
      "            dtree.fit(X_train,y_train)\n",
      "            score.append(dtree.score(X_test, y_test))\n",
      "        if(np.mean(score)>best):\n",
      "            best = np.mean(score)\n",
      "            bestFeature = X\n",
      "        number = number+1\n",
      "print best\n",
      "print bestFeature.shape\n",
      "#after running this script several time, the average size of best features is\n",
      "#when choosing the toping 22 features in all the features poll."
     ],
     "language": "python",
     "metadata": {},
     "outputs": [
      {
       "output_type": "stream",
       "stream": "stdout",
       "text": [
        "0.938456761372\n",
        "(569, 22)\n"
       ]
      }
     ],
     "prompt_number": 46
    },
    {
     "cell_type": "code",
     "collapsed": false,
     "input": [],
     "language": "python",
     "metadata": {},
     "outputs": [],
     "prompt_number": 45
    },
    {
     "cell_type": "code",
     "collapsed": false,
     "input": [],
     "language": "python",
     "metadata": {},
     "outputs": []
    }
   ],
   "metadata": {}
  }
 ]
}