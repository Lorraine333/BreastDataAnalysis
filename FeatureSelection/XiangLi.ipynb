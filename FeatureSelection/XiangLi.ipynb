{
 "metadata": {
  "name": "",
  "signature": "sha256:647b9f7f362f50e6e7b90df191fcd76f2e495ac1085b85f345f868339e2297ec"
 },
 "nbformat": 3,
 "nbformat_minor": 0,
 "worksheets": [
  {
   "cells": [
    {
     "cell_type": "code",
     "collapsed": false,
     "input": [
      "import numpy as np\n",
      "import pandas as pd\n",
      "import matplotlib as mpl\n",
      "import matplotlib.pyplot as plt\n",
      "import math\n",
      "import scipy\n",
      "from scipy.stats import norm\n",
      "from scipy.stats import t\n",
      "from scipy.stats import multivariate_normal\n",
      "from __future__ import division # ensures that default division is real number division\n"
     ],
     "language": "python",
     "metadata": {},
     "outputs": [],
     "prompt_number": 1
    },
    {
     "cell_type": "code",
     "collapsed": false,
     "input": [
      "%matplotlib"
     ],
     "language": "python",
     "metadata": {},
     "outputs": [
      {
       "output_type": "stream",
       "stream": "stdout",
       "text": [
        "Using matplotlib backend: MacOSX\n"
       ]
      }
     ],
     "prompt_number": 2
    },
    {
     "cell_type": "code",
     "collapsed": false,
     "input": [
      "def monte_carlo_simulation(n, confidence_value=0.99):\n",
      "    \n",
      "    #sample_size = 100\n",
      "    alpha = 1 - confidence_value\n",
      "    low = ([])\n",
      "    high = ([])\n",
      "    xRange = ([])\n",
      "    \n",
      "    for j in range(n):\n",
      "        sample_size = math.pow(10,j)\n",
      "\n",
      "        y = ([])\n",
      "        #density probability function\n",
      "        for i in np.arange(sample_size):\n",
      "\n",
      "            x1 = np.random.uniform(0.5,1)\n",
      "            x2 = np.random.uniform(0.75,2)\n",
      "            y.append(multivariate_normal([1,1],[[1,0.3],[0.3,1]]).pdf([x1,x2]))\n",
      "          \n",
      "        y = pd.DataFrame(y)\n",
      "        h = t.ppf(1 - alpha/2,sample_size-1) * (y.std()/np.sqrt(sample_size));\n",
      "        high.append((0.5*1.25)*(y.mean()+h));\n",
      "        low.append((0.5*1.25)*(y.mean()-h));\n",
      "        xRange.append(math.pow(10,j));\n",
      "    plt.figure(1)\n",
      "    plt.plot(xRange, high, label = 'High Boundry')\n",
      "    plt.plot(xRange, low, label = 'Low Boundry')\n",
      "    #plt.axis([0.0,5, 0.13,0.16])\n",
      "    plt.legend()\n",
      "    plt.title(\"Probability of Multivariate Distribution\")\n",
      "    plt.show()\n",
      "    \n",
      "    return low,high\n",
      "    "
     ],
     "language": "python",
     "metadata": {},
     "outputs": [],
     "prompt_number": 3
    },
    {
     "cell_type": "code",
     "collapsed": false,
     "input": [
      "_=monte_carlo_simulation(5)"
     ],
     "language": "python",
     "metadata": {},
     "outputs": [],
     "prompt_number": 4
    },
    {
     "cell_type": "code",
     "collapsed": false,
     "input": [
      "df = pd.read_csv('wdbc.data.csv')"
     ],
     "language": "python",
     "metadata": {},
     "outputs": [],
     "prompt_number": 5
    },
    {
     "cell_type": "code",
     "collapsed": false,
     "input": [
      "base_names = ['radius', 'texture', 'perimeter', 'area', 'smooth', 'compact', 'concav', \n",
      "                 'conpoints', 'symmetry', 'fracdim']\n",
      "names = ['m' + name for name in base_names]\n",
      "names += ['s' + name for name in base_names]\n",
      "names += ['e' + name for name in base_names]\n",
      "names = ['id', 'class'] + names\n",
      "df.columns = names"
     ],
     "language": "python",
     "metadata": {},
     "outputs": [],
     "prompt_number": 6
    },
    {
     "cell_type": "code",
     "collapsed": false,
     "input": [
      "def p_value_equality_normal_means(str):\n",
      "    \n",
      "    malig = df[df['class'] == 'M'][str]\n",
      "    benign = df[df['class'] == 'B'][str]\n",
      "    \n",
      "    mean1 = malig.mean()\n",
      "    mean2 = benign.mean()    \n",
      "    n = malig.count()\n",
      "    m = benign.count()\n",
      "    std1 = malig.std()\n",
      "    std2 = benign.std()\n",
      "\n",
      "    \n",
      "    s = ((n-1)*std1**2+(m-1)*std2**2)/(n+m-2)\n",
      "    T = (mean1 - mean2)/(np.sqrt(s*(1/n+1/m)))\n",
      "    \n",
      "    p_value = t(n+m-2).cdf(T);\n",
      "\n",
      "    p_value = min(p_value, 1-p_value)\n",
      "    p_value *= 2\n",
      "    \n",
      "    return [T,p_value]"
     ],
     "language": "python",
     "metadata": {},
     "outputs": [],
     "prompt_number": 7
    },
    {
     "cell_type": "code",
     "collapsed": false,
     "input": [
      "testStatValue = []\n",
      "name = []\n",
      "for i in df.columns:\n",
      "    if((i != 'id' )& (i != 'class')):\n",
      "        stat,p = p_value_equality_normal_means(i)\n",
      "        testStatValue.append(stat)\n",
      "        name.append(i)\n",
      "df1 = pd.DataFrame(testStatValue) \n",
      "df1 = df1.set_index([name])\n",
      "\n",
      "df1.columns = ['Statistic_Values']\n",
      "df1 = df1.sort(['Statistic_Values'],ascending=[0])\n",
      "df1 = df1[0:10]\n",
      "\n",
      "df1.plot(kind = 'bar')"
     ],
     "language": "python",
     "metadata": {},
     "outputs": [
      {
       "metadata": {},
       "output_type": "pyout",
       "prompt_number": 8,
       "text": [
        "<matplotlib.axes.AxesSubplot at 0x118b3bf50>"
       ]
      }
     ],
     "prompt_number": 8
    },
    {
     "cell_type": "code",
     "collapsed": false,
     "input": [
      "def combined_p_value_equality_normal_means(feature1, feature2):\n",
      "    \n",
      "    c = 1    \n",
      "    W = df[feature1] + c*df[feature2]\n",
      "    Wm = df[df['class'] == 'M'][feature1]/df[feature1].std() + c*df[df['class'] == 'M'][feature2]/df[feature2].std()\n",
      "    Wb = df[df['class'] == 'B'][feature1]/df[feature1].std() + c*df[df['class'] == 'B'][feature2]/df[feature2].std()    \n",
      "    m = Wm.count()\n",
      "    n = Wb.count()\n",
      "    var = 1+c**2+ 2* c* np.cov(df[feature1]/df[feature1].std(), df[feature2]/df[feature2].std())[0,1]    \n",
      "    meanWm = Wm.mean()\n",
      "    meanWb = Wb.mean()   \n",
      "    T = abs(meanWm - meanWb)/((np.sqrt((1/n+1/m)*var)))\n",
      "    maxTS = T\n",
      "    maxc = c\n",
      "    \n",
      "    c = -1    \n",
      "    W = df[feature1] + c*df[feature2]\n",
      "    Wm = df[df['class'] == 'M'][feature1]/df[feature1].std() + c*df[df['class'] == 'M'][feature2]/df[feature2].std()\n",
      "    Wb = df[df['class'] == 'B'][feature1]/df[feature1].std() + c*df[df['class'] == 'B'][feature2]/df[feature2].std()    \n",
      "    m = Wm.count()\n",
      "    n = Wb.count()\n",
      "    var = 1+c**2+ 2* c* np.cov(df[feature1]/df[feature1].std(), df[feature2]/df[feature2].std())[0,1]    \n",
      "    meanWm = Wm.mean()\n",
      "    meanWb = Wb.mean()   \n",
      "    T = abs(meanWm - meanWb)/((np.sqrt((1/n+1/m)*var)))\n",
      "    if(maxTS < T):\n",
      "        maxTS = T\n",
      "        maxc = c\n",
      "    \n",
      "    delta1 = (df[df['class'] == 'M'][feature1]/df[feature1].std()).mean() - (df[df['class'] == 'B'][feature1]/df[feature1].std()).mean()\n",
      "    delta2 = (df[df['class'] == 'M'][feature2]/df[feature2].std()).mean() - (df[df['class'] == 'B'][feature2]/df[feature2].std()).mean()\n",
      "    rho = np.cov(df[feature1]/df[feature1].std(), df[feature2]/df[feature2].std())[0,1] \n",
      "    c = (delta2 - delta1*rho)/(delta1 - delta2 * rho)\n",
      "    \n",
      "    W = df[feature1] + c*df[feature2]\n",
      "    Wm = df[df['class'] == 'M'][feature1]/df[feature1].std() + c*df[df['class'] == 'M'][feature2]/df[feature2].std()\n",
      "    Wb = df[df['class'] == 'B'][feature1]/df[feature1].std() + c*df[df['class'] == 'B'][feature2]/df[feature2].std()    \n",
      "    m = Wm.count()\n",
      "    n = Wb.count()\n",
      "    var = 1+c**2+ 2* c* np.cov(df[feature1]/df[feature1].std(), df[feature2]/df[feature2].std())[0,1]    \n",
      "    meanWm = Wm.mean()\n",
      "    meanWb = Wb.mean()   \n",
      "    T = abs(meanWm - meanWb)/((np.sqrt((1/n+1/m)*var)))\n",
      "    if(maxTS < T):\n",
      "        maxTS = T\n",
      "        maxc = c\n",
      "    \n",
      "    return maxTS, maxc"
     ],
     "language": "python",
     "metadata": {},
     "outputs": [],
     "prompt_number": 9
    },
    {
     "cell_type": "code",
     "collapsed": false,
     "input": [
      "Mts = 0\n",
      "Mc = 0\n",
      "for i in df.columns:\n",
      "    for j in df.columns:\n",
      "        if((i != 'id' )& (i != 'class') & (j != 'id' )& (j != 'class') & (i!=j)):\n",
      "            ts, c = combined_p_value_equality_normal_means(feature1 = i, feature2 = j)\n",
      "            if(ts > Mts):\n",
      "                Mts = ts\n",
      "                Mc = c\n",
      "                best1 = i\n",
      "                best2 = j\n",
      "a1 = 1/df[best1].std() \n",
      "a2 = Mc / df[best2].std() \n",
      "print Mts,\"From\",a1,best1,\"and\",a2,best2"
     ],
     "language": "python",
     "metadata": {},
     "outputs": [
      {
       "output_type": "stream",
       "stream": "stdout",
       "text": [
        "19.7773492378 From 15.2708479418 econpoints and 0.172145327828 eradius\n"
       ]
      }
     ],
     "prompt_number": 10
    },
    {
     "cell_type": "code",
     "collapsed": false,
     "input": [
      "Y = a1 * df[best1] + a2 * df[best2]\n",
      "Ym = a1*df[df['class'] == 'M'][best1] + a2*df[df['class'] == 'M'][best2]\n",
      "Yb = a1*df[df['class'] == 'B'][best1] + a2*df[df['class'] == 'B'][best2]\n",
      "\n",
      "plt.figure(3)\n",
      "ax = Ym.plot(kind = \"hist\",legend=True)\n",
      "ax = Yb.plot(kind = \"hist\",legend=True)\n",
      "l = plt.legend(('Malignant lumps','Benign lumps.'), loc='best')\n",
      "plt.show()\n"
     ],
     "language": "python",
     "metadata": {},
     "outputs": [],
     "prompt_number": 11
    },
    {
     "cell_type": "code",
     "collapsed": false,
     "input": [],
     "language": "python",
     "metadata": {},
     "outputs": [],
     "prompt_number": 11
    },
    {
     "cell_type": "code",
     "collapsed": false,
     "input": [],
     "language": "python",
     "metadata": {},
     "outputs": [],
     "prompt_number": 11
    },
    {
     "cell_type": "code",
     "collapsed": false,
     "input": [],
     "language": "python",
     "metadata": {},
     "outputs": [],
     "prompt_number": 11
    },
    {
     "cell_type": "code",
     "collapsed": false,
     "input": [],
     "language": "python",
     "metadata": {},
     "outputs": [],
     "prompt_number": 11
    }
   ],
   "metadata": {}
  }
 ]
}